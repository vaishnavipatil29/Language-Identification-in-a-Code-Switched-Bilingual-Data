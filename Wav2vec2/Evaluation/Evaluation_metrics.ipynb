{
 "cells": [
  {
   "cell_type": "markdown",
   "metadata": {},
   "source": [
    "Load the sentence_wer.csv file here"
   ]
  },
  {
   "cell_type": "code",
   "execution_count": 1,
   "metadata": {},
   "outputs": [],
   "source": [
    "import pandas as pd\n",
    "df = pd.read_csv(\"/home/orchids/Documents/BTP_Vaishnavi_Joshitha/Wav2vec2_Results/Gujarat/results_900/Dev_data/sentence_wise_wer.csv\")"
   ]
  },
  {
   "cell_type": "code",
   "execution_count": 2,
   "metadata": {},
   "outputs": [
    {
     "data": {
      "text/html": [
       "<div>\n",
       "<style scoped>\n",
       "    .dataframe tbody tr th:only-of-type {\n",
       "        vertical-align: middle;\n",
       "    }\n",
       "\n",
       "    .dataframe tbody tr th {\n",
       "        vertical-align: top;\n",
       "    }\n",
       "\n",
       "    .dataframe thead th {\n",
       "        text-align: right;\n",
       "    }\n",
       "</style>\n",
       "<table border=\"1\" class=\"dataframe\">\n",
       "  <thead>\n",
       "    <tr style=\"text-align: right;\">\n",
       "      <th></th>\n",
       "      <th>original</th>\n",
       "      <th>predicted</th>\n",
       "      <th>ix</th>\n",
       "      <th>wer</th>\n",
       "      <th>cer</th>\n",
       "      <th>num_tokens</th>\n",
       "      <th>num_chars</th>\n",
       "      <th>path</th>\n",
       "      <th>substitutions</th>\n",
       "      <th>insertions</th>\n",
       "      <th>deletions</th>\n",
       "    </tr>\n",
       "  </thead>\n",
       "  <tbody>\n",
       "    <tr>\n",
       "      <th>0</th>\n",
       "      <td>SSSSSGGGGGGGEEESSSSSSSGGEEEESSSEEEEESSSSSSSSSS...</td>\n",
       "      <td>SSSSSGGGGGGGGGSSGGGGSGGGGGGSSGEEEESSGGGGSSSSSS...</td>\n",
       "      <td>162</td>\n",
       "      <td>1</td>\n",
       "      <td>32</td>\n",
       "      <td>1</td>\n",
       "      <td>102</td>\n",
       "      <td>/home/orchids/Documents/BTP_Vaishnavi_Joshitha...</td>\n",
       "      <td>1</td>\n",
       "      <td>0</td>\n",
       "      <td>0</td>\n",
       "    </tr>\n",
       "    <tr>\n",
       "      <th>1</th>\n",
       "      <td>SSSSSSSEEEESSEESSSSGGGGGGSSSSSSSGGGGGSGGEEEESS...</td>\n",
       "      <td>SSSSSEEEESEEESSSGGGGGGSSGGGGGSGGEEEGSSEEGGGGSG...</td>\n",
       "      <td>676</td>\n",
       "      <td>1</td>\n",
       "      <td>23</td>\n",
       "      <td>1</td>\n",
       "      <td>92</td>\n",
       "      <td>/home/orchids/Documents/BTP_Vaishnavi_Joshitha...</td>\n",
       "      <td>1</td>\n",
       "      <td>0</td>\n",
       "      <td>0</td>\n",
       "    </tr>\n",
       "    <tr>\n",
       "      <th>2</th>\n",
       "      <td>SSGGGGGGGSSSSSSGGGGGEEEESSSSSSSSSSGGGSSGGGGGGG...</td>\n",
       "      <td>SSGGGGGGGGGGGGGGGGGGGGGGSSSEEEEEGGGGSSGGGGGGGG...</td>\n",
       "      <td>883</td>\n",
       "      <td>1</td>\n",
       "      <td>28</td>\n",
       "      <td>1</td>\n",
       "      <td>92</td>\n",
       "      <td>/home/orchids/Documents/BTP_Vaishnavi_Joshitha...</td>\n",
       "      <td>1</td>\n",
       "      <td>0</td>\n",
       "      <td>0</td>\n",
       "    </tr>\n",
       "    <tr>\n",
       "      <th>3</th>\n",
       "      <td>SSSGGSEEEEESSSGGGGGGGGGGSSGGGGGGSSSSGGGGGGGGGG...</td>\n",
       "      <td>SSGGGEEEESSSGGGGGGGGGSSGGGGGGSSSSGGGGGGGGGSSGG...</td>\n",
       "      <td>876</td>\n",
       "      <td>1</td>\n",
       "      <td>11</td>\n",
       "      <td>1</td>\n",
       "      <td>91</td>\n",
       "      <td>/home/orchids/Documents/BTP_Vaishnavi_Joshitha...</td>\n",
       "      <td>1</td>\n",
       "      <td>0</td>\n",
       "      <td>0</td>\n",
       "    </tr>\n",
       "    <tr>\n",
       "      <th>4</th>\n",
       "      <td>SSGGGGGGGGGGGGGGSSSSSSSSGGGGGSGGGGGGGGSSGGGGGS...</td>\n",
       "      <td>SSGGGGGGGGSGGGGSSSSGGGGGGGEEGGGSGGGGGGGGSGGGGG...</td>\n",
       "      <td>889</td>\n",
       "      <td>1</td>\n",
       "      <td>16</td>\n",
       "      <td>1</td>\n",
       "      <td>78</td>\n",
       "      <td>/home/orchids/Documents/BTP_Vaishnavi_Joshitha...</td>\n",
       "      <td>1</td>\n",
       "      <td>0</td>\n",
       "      <td>0</td>\n",
       "    </tr>\n",
       "  </tbody>\n",
       "</table>\n",
       "</div>"
      ],
      "text/plain": [
       "                                            original  \\\n",
       "0  SSSSSGGGGGGGEEESSSSSSSGGEEEESSSEEEEESSSSSSSSSS...   \n",
       "1  SSSSSSSEEEESSEESSSSGGGGGGSSSSSSSGGGGGSGGEEEESS...   \n",
       "2  SSGGGGGGGSSSSSSGGGGGEEEESSSSSSSSSSGGGSSGGGGGGG...   \n",
       "3  SSSGGSEEEEESSSGGGGGGGGGGSSGGGGGGSSSSGGGGGGGGGG...   \n",
       "4  SSGGGGGGGGGGGGGGSSSSSSSSGGGGGSGGGGGGGGSSGGGGGS...   \n",
       "\n",
       "                                           predicted   ix  wer  cer  \\\n",
       "0  SSSSSGGGGGGGGGSSGGGGSGGGGGGSSGEEEESSGGGGSSSSSS...  162    1   32   \n",
       "1  SSSSSEEEESEEESSSGGGGGGSSGGGGGSGGEEEGSSEEGGGGSG...  676    1   23   \n",
       "2  SSGGGGGGGGGGGGGGGGGGGGGGSSSEEEEEGGGGSSGGGGGGGG...  883    1   28   \n",
       "3  SSGGGEEEESSSGGGGGGGGGSSGGGGGGSSSSGGGGGGGGGSSGG...  876    1   11   \n",
       "4  SSGGGGGGGGSGGGGSSSSGGGGGGGEEGGGSGGGGGGGGSGGGGG...  889    1   16   \n",
       "\n",
       "   num_tokens  num_chars                                               path  \\\n",
       "0           1        102  /home/orchids/Documents/BTP_Vaishnavi_Joshitha...   \n",
       "1           1         92  /home/orchids/Documents/BTP_Vaishnavi_Joshitha...   \n",
       "2           1         92  /home/orchids/Documents/BTP_Vaishnavi_Joshitha...   \n",
       "3           1         91  /home/orchids/Documents/BTP_Vaishnavi_Joshitha...   \n",
       "4           1         78  /home/orchids/Documents/BTP_Vaishnavi_Joshitha...   \n",
       "\n",
       "   substitutions  insertions  deletions  \n",
       "0              1           0          0  \n",
       "1              1           0          0  \n",
       "2              1           0          0  \n",
       "3              1           0          0  \n",
       "4              1           0          0  "
      ]
     },
     "execution_count": 2,
     "metadata": {},
     "output_type": "execute_result"
    }
   ],
   "source": [
    "df.head()"
   ]
  },
  {
   "cell_type": "code",
   "execution_count": 3,
   "metadata": {},
   "outputs": [
    {
     "data": {
      "text/plain": [
       "1080"
      ]
     },
     "execution_count": 3,
     "metadata": {},
     "output_type": "execute_result"
    }
   ],
   "source": [
    "tot_files = len(df)\n",
    "tot_files"
   ]
  },
  {
   "cell_type": "markdown",
   "metadata": {},
   "source": [
    "Identification Performance"
   ]
  },
  {
   "cell_type": "code",
   "execution_count": 4,
   "metadata": {},
   "outputs": [
    {
     "name": "stderr",
     "output_type": "stream",
     "text": [
      "/tmp/ipykernel_20220/1836967118.py:13: SettingWithCopyWarning: \n",
      "A value is trying to be set on a copy of a slice from a DataFrame\n",
      "\n",
      "See the caveats in the documentation: https://pandas.pydata.org/pandas-docs/stable/user_guide/indexing.html#returning-a-view-versus-a-copy\n",
      "  df['ACC'][k] = (correct/len(df['original'][k]))\n"
     ]
    }
   ],
   "source": [
    "#Accuracy\n",
    "total_acc = 0\n",
    "df['ACC'] = \"\"\n",
    "for k in range(0, tot_files):\n",
    "    \n",
    "    correct = 0\n",
    "    #---------Find the one eith min length and then compare till all the utterence labels predicted--------#\n",
    "    length = min(len(df['original'][k]),len(df['predicted'][k]))\n",
    "    for i in range(length):\n",
    "        if (df['predicted'][k][i] == df['original'][k][i]):\n",
    "            correct += 1\n",
    "\n",
    "    df['ACC'][k] = (correct/len(df['original'][k]))\n",
    "    total_acc +=df['ACC'][k]\n",
    "\n",
    "tot_acc = (float(total_acc) / tot_files) * 100"
   ]
  },
  {
   "cell_type": "code",
   "execution_count": 5,
   "metadata": {},
   "outputs": [
    {
     "data": {
      "text/plain": [
       "82.26813967629477"
      ]
     },
     "execution_count": 5,
     "metadata": {},
     "output_type": "execute_result"
    }
   ],
   "source": [
    "tot_acc"
   ]
  },
  {
   "cell_type": "markdown",
   "metadata": {},
   "source": [
    "EER, FAR, FRR"
   ]
  },
  {
   "cell_type": "code",
   "execution_count": 6,
   "metadata": {},
   "outputs": [],
   "source": [
    "far, frr = 0, 0\n",
    "label = ['S','G','E']\n",
    "eer_s=0\n",
    "eer_e=0\n",
    "eer_t=0\n",
    "\n",
    "far_s=0\n",
    "far_e=0\n",
    "far_t=0\n",
    "\n",
    "frr_s=0\n",
    "frr_e=0\n",
    "frr_t=0\n",
    "\n",
    "total_eer=0\n",
    "for ind in range(tot_files):\n",
    "    transcript = df['predicted'][ind]\n",
    "    reference = df['original'][ind]\n",
    "    tot_len = len(reference)\n",
    "\n",
    "    for j in range(3):\n",
    "        for i in range(max(len(transcript),len(reference))):\n",
    "            if(i<len(transcript) and i<len(reference)):\n",
    "                if (transcript[i] == label[j] and reference[i] != label[j]):\n",
    "                    far+=1\n",
    "                elif (transcript[i] != label[j] and reference[i] == label[j]):\n",
    "                    frr+=1\n",
    "            else:\n",
    "                if (i>=len(transcript) and reference[i] == label[j]):\n",
    "                    frr+=1\n",
    "                elif (i>=len(reference) and transcript[i] == label[j]):\n",
    "                    far+=1\n",
    "\n",
    "            far = far/tot_len\n",
    "            frr = frr/tot_len\n",
    "            eer = (far+frr)/2\n",
    "            if (label[j]=='S'):\n",
    "                eer_s += eer\n",
    "                far_s += far\n",
    "                frr_s += frr\n",
    "            if (label[j]=='G'):\n",
    "                eer_t += eer\n",
    "                far_t += far\n",
    "                frr_t += frr\n",
    "            if (label[j]=='E'):\n",
    "                eer_e += eer\n",
    "                far_e += far\n",
    "                frr_e += frr\n",
    "            total_eer += eer\n",
    "\n",
    "        #print('EER for label '+ str(label[j])+ ' : ' + str(eer))\n",
    "\n",
    "                \n",
    "eer_s = (float(eer_s) / tot_files)\n",
    "eer_t = (float(eer_t) / tot_files)\n",
    "eer_e = (float(eer_e) / tot_files)\n",
    "\n",
    "far_s = (float(far_s) / tot_files)\n",
    "far_t = (float(far_t) / tot_files)\n",
    "far_e = (float(far_e) / tot_files)\n",
    "\n",
    "\n",
    "frr_s = (float(frr_s) / tot_files)\n",
    "frr_t = (float(frr_t) / tot_files)\n",
    "frr_e = (float(frr_e) / tot_files)\n"
   ]
  },
  {
   "cell_type": "code",
   "execution_count": 7,
   "metadata": {},
   "outputs": [
    {
     "name": "stdout",
     "output_type": "stream",
     "text": [
      "0.05114932830244979\n",
      "0.06914551211803233\n",
      "0.041288181901167294\n"
     ]
    },
    {
     "data": {
      "text/plain": [
       "0.0538610074405498"
      ]
     },
     "execution_count": 7,
     "metadata": {},
     "output_type": "execute_result"
    }
   ],
   "source": [
    "print(eer_s)\n",
    "print(eer_t)\n",
    "print(eer_e)\n",
    "(eer_s+eer_t+eer_e)/3"
   ]
  },
  {
   "cell_type": "code",
   "execution_count": 8,
   "metadata": {},
   "outputs": [
    {
     "name": "stdout",
     "output_type": "stream",
     "text": [
      "0.043991140376901286\n",
      "0.07710053956579277\n",
      "0.037925035518405134\n"
     ]
    },
    {
     "data": {
      "text/plain": [
       "0.053005571820366394"
      ]
     },
     "execution_count": 8,
     "metadata": {},
     "output_type": "execute_result"
    }
   ],
   "source": [
    "print(far_s)\n",
    "print(far_t)\n",
    "print(far_e)\n",
    "(far_s+far_t+far_e)/3"
   ]
  },
  {
   "cell_type": "code",
   "execution_count": 9,
   "metadata": {},
   "outputs": [
    {
     "name": "stdout",
     "output_type": "stream",
     "text": [
      "0.05830751622799817\n",
      "0.061190484670273736\n",
      "0.04465132828393023\n"
     ]
    },
    {
     "data": {
      "text/plain": [
       "0.05471644306073405"
      ]
     },
     "execution_count": 9,
     "metadata": {},
     "output_type": "execute_result"
    }
   ],
   "source": [
    "print(frr_s)\n",
    "print(frr_t)\n",
    "print(frr_e)\n",
    "(frr_s+frr_t+frr_e)/3"
   ]
  }
 ],
 "metadata": {
  "interpreter": {
   "hash": "84ded311c49f9c4656ce35a7338b9ee04619295a1751e15ef92ecc8ccd1aae04"
  },
  "kernelspec": {
   "display_name": "Python 3.9.5 ('base')",
   "language": "python",
   "name": "python3"
  },
  "language_info": {
   "codemirror_mode": {
    "name": "ipython",
    "version": 3
   },
   "file_extension": ".py",
   "mimetype": "text/x-python",
   "name": "python",
   "nbconvert_exporter": "python",
   "pygments_lexer": "ipython3",
   "version": "3.9.5"
  },
  "orig_nbformat": 4
 },
 "nbformat": 4,
 "nbformat_minor": 2
}
